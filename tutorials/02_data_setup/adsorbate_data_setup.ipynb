{
 "cells": [
  {
   "cell_type": "markdown",
   "metadata": {},
   "source": [
    "# Adsorbate Fingerprints Setup\n",
    "\n",
    "In this tutorial we will featurize adsorbates on slabs.\n",
    "\n",
    "For doing machine learning, we need numeric data in a matrix, where the rows represent data point or observations and columns represent the features or variables.\n",
    "\n",
    "CatLearn contains a simple and easily extendable module for converting atoms to data, which is introduced in the following."
   ]
  },
  {
   "cell_type": "code",
   "execution_count": null,
   "metadata": {},
   "outputs": [],
   "source": [
    "# Import packages.\n",
    "import os\n",
    "import numpy as np\n",
    "\n",
    "import ase.io\n",
    "from ase.data import atomic_numbers, chemical_symbols\n",
    "from ase.build import fcc111, add_adsorbate\n",
    "from ase.constraints import FixAtoms\n",
    "from ase.visualize import view\n",
    "\n",
    "try:\n",
    "    import matplotlib.pyplot as plt\n",
    "    import seaborn as sns\n",
    "    import pandas as pd\n",
    "    plot = True\n",
    "except ImportError:\n",
    "    print('Seaborn module is needed for this tutorial.')\n",
    "\n",
    "# Plot setups.\n",
    "plt.rc('text', usetex=False)\n",
    "font = {'family': 'sans-serif',\n",
    "        # 'sans-serif':, 'Helvetica',\n",
    "        'style': 'normal',\n",
    "        'stretch': 'normal'}\n",
    "plt.rc('font', **font)\n",
    "plt.rc('axes', linewidth=2)\n",
    "plt.rc('figure')\n",
    "plt.rc('lines', markeredgewidth=0, markersize=8, linewidth=1)\n",
    "ticksize = 10\n",
    "plt.rc('xtick', labelsize=ticksize+2)\n",
    "plt.rc('ytick.major', size=4, width=1)\n",
    "plt.rc('ytick.minor', size=4, width=1)\n",
    "plt.rc('ytick', labelsize=ticksize+2)\n",
    "plt.rc('ytick.major', size=4, width=1)\n",
    "plt.rc('ytick.minor', size=4, width=1)"
   ]
  },
  {
   "cell_type": "markdown",
   "metadata": {},
   "source": [
    "### Generate some adsorbate/surface systems from ASE.\n",
    "\n",
    "We return the atoms objects in a list, which is the simplest format and easily transferable to CatLearn."
   ]
  },
  {
   "cell_type": "code",
   "execution_count": null,
   "metadata": {},
   "outputs": [],
   "source": [
    "\"\"\"Make a list of atoms objects.\"\"\"\n",
    "# Import default atomic radii.\n",
    "from catlearn.featurize.periodic_table_data import get_radius, default_catlearn_radius\n",
    "\n",
    "# Select elements for adsorbates and slabs.\n",
    "adsorbates = ['H', 'O', 'C', 'N', 'S', 'Cl', 'F']\n",
    "symbols = ['Ag', 'Au', 'Cu', 'Pt', 'Pd', 'Ir', 'Rh', 'Ni', 'Co']\n",
    "images = []\n",
    "for i, s in enumerate(symbols):\n",
    "\n",
    "    # Get atomic radius.\n",
    "    rs = get_radius(atomic_numbers[s])\n",
    "    a = 2 * rs * 2 ** 0.5\n",
    "\n",
    "    for ads in adsorbates:\n",
    "        # Create a slab.\n",
    "        atoms = fcc111(s, (2, 2, 3), a=a)\n",
    "        atoms.center(vacuum=6, axis=2)\n",
    "        \n",
    "        # Constrain the slab.\n",
    "        c_atoms = [a.index for a in atoms if\n",
    "                   a.z < atoms.cell[2, 2] / 2. + 0.1]\n",
    "        atoms.set_constraint(FixAtoms(c_atoms))\n",
    "\n",
    "        # Specify an adsorbate-surface bond distance.\n",
    "        h = (default_catlearn_radius(atomic_numbers[ads]) + rs) / 2 ** 0.5\n",
    "\n",
    "        # Adsorb.\n",
    "        add_adsorbate(atoms, ads, h, 'bridge')\n",
    "\n",
    "        # Make list of atoms objects.\n",
    "        images.append(atoms)\n",
    "print(len(images), ' atoms objects created.')"
   ]
  },
  {
   "cell_type": "markdown",
   "metadata": {},
   "source": [
    "Here we have our list of atoms stored in `images`.\n",
    "\n",
    "### Attach meta data automatically.\n",
    "\n",
    "The adsorbate fingerprinter generates data based on connectivity of atoms in the adsorbate/slab system. \n",
    "It therefore needs this connectivity metadata as intermediates between the atoms object and the fingerprint. A connectivity matrix can some times be slightly computationally time consuming to generate and therefore needs to be made only once.\n",
    "\n",
    "A list of raw atoms without the metadata can be feed through `autogen_info` to attach the connectivity matrix and metadata."
   ]
  },
  {
   "cell_type": "code",
   "execution_count": null,
   "metadata": {},
   "outputs": [],
   "source": [
    "from catlearn.featurize.adsorbate_prep import autogen_info\n",
    "\n",
    "images = autogen_info(images)"
   ]
  },
  {
   "cell_type": "markdown",
   "metadata": {},
   "source": [
    "Now let's go ahead and generate our fingerprint matrix.\n",
    "\n",
    "First we instantiate the `FeatureGenerator` object and define the fingerprinting functions we want to call. These define what information we retrieve and include in our fingerprints."
   ]
  },
  {
   "cell_type": "code",
   "execution_count": null,
   "metadata": {},
   "outputs": [],
   "source": [
    "from catlearn.featurize.setup import FeatureGenerator, default_fingerprinters\n",
    "\n",
    "# Instantiate the feature generator.\n",
    "fingerprint_generator = FeatureGenerator(nprocs=1)\n",
    "\n",
    "# We will choose two example feature sets.\n",
    "feature_functions = [# Average properties of atoms in the adsorption site.\n",
    "                     fingerprint_generator.mean_site,\n",
    "                     # A categorical encoding of which atoms are in the adsorbate.\n",
    "                     fingerprint_generator.bag_atoms_ads]"
   ]
  },
  {
   "cell_type": "markdown",
   "metadata": {},
   "source": [
    "There are many more fingerprint functions implemented in CatLearn, which you can see at\n",
    "https://catlearn.readthedocs.io/en/latest/catlearn.fingerprint.html\n",
    "\n",
    "Return the fingerprint matrix from atoms objects and feature_functions"
   ]
  },
  {
   "cell_type": "code",
   "execution_count": null,
   "metadata": {},
   "outputs": [],
   "source": [
    "# Get the data.\n",
    "data_matrix = fingerprint_generator.return_vec(images, feature_functions)\n",
    "\n",
    "# Get a list of names of the features.\n",
    "feature_names = fingerprint_generator.return_names(feature_functions)"
   ]
  },
  {
   "cell_type": "markdown",
   "metadata": {},
   "source": [
    "We are done. The data matrix is now stored in the variable `data_matrix`.\n",
    "\n",
    "You can easily append your very own fingerprint like so:"
   ]
  },
  {
   "cell_type": "code",
   "execution_count": null,
   "metadata": {},
   "outputs": [],
   "source": [
    "# Define a fingerprint function.\n",
    "def my_function(atoms=None):\n",
    "    \"\"\"Fingerprinter functions must accept an atoms object and return a list.\"\"\"\n",
    "    if atoms is None:\n",
    "        return ['my_feature']\n",
    "    else:\n",
    "        return [np.random.normal()]\n",
    "\n",
    "feature_functions = [# As above.\n",
    "                     fingerprint_generator.mean_site,\n",
    "                     fingerprint_generator.bag_atoms_ads,\n",
    "                     # Append a user defined function.\n",
    "                     my_function]\n",
    "\n",
    "# Get the data.\n",
    "data_matrix = fingerprint_generator.return_vec(images, feature_functions)\n",
    "\n",
    "# Get a list of names of the features.\n",
    "feature_names = fingerprint_generator.return_names(feature_functions)"
   ]
  },
  {
   "cell_type": "markdown",
   "metadata": {},
   "source": [
    "### Let's analyse the output.\n",
    "\n",
    "First lets see what features were returned by the `feature_functions`:"
   ]
  },
  {
   "cell_type": "code",
   "execution_count": null,
   "metadata": {},
   "outputs": [],
   "source": [
    "for l in range(len(feature_names)):\n",
    "    print(l, feature_names[l])"
   ]
  },
  {
   "cell_type": "markdown",
   "metadata": {},
   "source": [
    "Lets check one of the features"
   ]
  },
  {
   "cell_type": "code",
   "execution_count": null,
   "metadata": {},
   "outputs": [],
   "source": [
    "descriptor_index = 53\n",
    "plt.hist(data_matrix[:, descriptor_index], bins=min([17, len(data_matrix)]), align='mid')\n",
    "plt.xlabel(feature_names[descriptor_index])"
   ]
  },
  {
   "cell_type": "markdown",
   "metadata": {},
   "source": [
    "Lets try and compare some of the features about atomic radii using violinplots."
   ]
  },
  {
   "cell_type": "code",
   "execution_count": null,
   "metadata": {},
   "outputs": [],
   "source": [
    "# Select some features to plot.\n",
    "selection = [10, 11, 14]\n",
    "\n",
    "# Plot selected of the feature distributions.\n",
    "plot_data = {}\n",
    "traint = np.transpose(data_matrix[:, selection])\n",
    "for i, j in zip(traint, selection):\n",
    "    plot_data[j] = i\n",
    "df = pd.DataFrame(plot_data)\n",
    "fig = plt.figure(figsize=(20, 10))\n",
    "ax = sns.violinplot(data=df, inner=None)\n",
    "plt.title('Feature distributions', fontsize=20)\n",
    "plt.xlabel('Feature No.', fontsize=20)\n",
    "plt.ylabel('Distribution.', fontsize=20)\n",
    "\n",
    "string = 'Plotting:'\n",
    "for s in selection:\n",
    "    string += '\\n' + str(s) + ' ' + feature_names[s]\n",
    "print(string)"
   ]
  },
  {
   "cell_type": "markdown",
   "metadata": {},
   "source": [
    "### Clean data"
   ]
  },
  {
   "cell_type": "code",
   "execution_count": null,
   "metadata": {},
   "outputs": [],
   "source": [
    "from catlearn.preprocess.clean_data import clean_infinite, clean_variance\n",
    "\n",
    "# Get rid of NaN's and Inf's\n",
    "finite_data = clean_infinite(data_matrix, labels=feature_names)\n",
    "\n",
    "# Get rid of features with identical values in all rows.\n",
    "informative_data = clean_variance(finite_data['train'], labels=finite_data['labels'])\n",
    "\n",
    "# Get the data matrix and list of labels.\n",
    "training_data = informative_data['train']\n",
    "clean_features = informative_data['labels']"
   ]
  },
  {
   "cell_type": "markdown",
   "metadata": {},
   "source": [
    "### Correlations\n",
    "\n",
    "Do a correlation analysis of the data."
   ]
  },
  {
   "cell_type": "code",
   "execution_count": null,
   "metadata": {},
   "outputs": [],
   "source": [
    "from catlearn.utilities.utilities import target_correlation, holdout_set\n",
    "\n",
    "# Get the correlation of all features with one selected feature.\n",
    "target_feature = 18\n",
    "target_corr = target_correlation(training_data, training_data[:, target_feature], correlation=['pearson'])\n",
    "plt.plot(list(range(np.shape(target_corr)[1])), np.abs(target_corr)[0, :], '-o')\n",
    "plt.xlabel(\"Feature No.\")\n",
    "plt.ylabel(\"Correlation\")"
   ]
  },
  {
   "cell_type": "code",
   "execution_count": null,
   "metadata": {},
   "outputs": [],
   "source": [
    "corr_ordering = np.argsort(np.abs(target_corr)[0, :])[::-1]\n",
    "np.abs(target_corr)[0, corr_ordering]\n",
    "print('Highest correlation with', clean_features[target_feature], ':\\n')\n",
    "for i in range(10):\n",
    "    print(corr_ordering[i], clean_features[corr_ordering][i], np.abs(target_corr)[0, corr_ordering][i])"
   ]
  },
  {
   "cell_type": "code",
   "execution_count": null,
   "metadata": {},
   "outputs": [],
   "source": [
    "# Get correlation of all features with all features.\n",
    "\n",
    "d = pd.DataFrame(training_data)\n",
    "corr = d.corr(method='pearson')\n",
    "sns.heatmap(corr.abs(), square=True)"
   ]
  },
  {
   "cell_type": "code",
   "execution_count": null,
   "metadata": {},
   "outputs": [],
   "source": [
    "# Look at a few selected feature pairs.\n",
    "np.abs(target_corr)[0, :][31:36]"
   ]
  },
  {
   "cell_type": "code",
   "execution_count": null,
   "metadata": {},
   "outputs": [],
   "source": [
    "# What are the labels of those.\n",
    "clean_features[31:36]"
   ]
  },
  {
   "cell_type": "markdown",
   "metadata": {},
   "source": [
    "### Analysis of meta data.\n",
    "\n",
    "Attached to the atoms objects, the fingerprinter needs information about the atoms belonging to the adsorbate. \n",
    "This was generate automatically by `autogen_info`, but we can take a closer look at how this meta data is formatted:"
   ]
  },
  {
   "cell_type": "code",
   "execution_count": null,
   "metadata": {},
   "outputs": [],
   "source": [
    "# Look at meta data for the first atoms object.\n",
    "images[0].subsets"
   ]
  },
  {
   "cell_type": "markdown",
   "metadata": {},
   "source": [
    "E.g. Atomic indices of atoms belonging to the adsorbate are put in `atoms.subsets['ads_atoms']`\n",
    "There is only one index in that subset, which shows that this system had a monoatomic adsorbate."
   ]
  },
  {
   "cell_type": "code",
   "execution_count": null,
   "metadata": {},
   "outputs": [],
   "source": [
    "# Let's see which one it was.\n",
    "print('adsorbate:', images[0].get_chemical_symbols()[12])\n",
    "\n",
    "# What was the site?\n",
    "print('site:', np.array(images[0].get_chemical_symbols())[images[0].subsets['site_atoms']])"
   ]
  },
  {
   "cell_type": "markdown",
   "metadata": {},
   "source": [
    "It was a H* sitting on a Ag-Ag bridge site."
   ]
  },
  {
   "cell_type": "markdown",
   "metadata": {},
   "source": [
    "As a user, you can always choose to attach this information and avoid relying on `autogen_info`, if you prefer. There could be various reasons, why the accuracy of `autogen_info` is not always optimal.\n",
    "\n",
    "`autogen_info` will respect any subsets already present.\n",
    "\n",
    "Furthermore `autogen_info` builds the subsets using information from a connectivity matrix that is stored in `atoms.connectivity`. If the atoms object already has `atoms.connectivity`, that will be kept and used, otherwise a new one will be created using default cutoffs for neighbor distances."
   ]
  },
  {
   "cell_type": "code",
   "execution_count": null,
   "metadata": {},
   "outputs": [],
   "source": [
    "# Lets look at a connectivity matrix.\n",
    "images[0].connectivity"
   ]
  },
  {
   "cell_type": "markdown",
   "metadata": {},
   "source": [
    "Note that there are some 2's in there. Those are a result of the small unit cell size, where atoms can connect to neighbors in several neighboring unit cells."
   ]
  },
  {
   "cell_type": "markdown",
   "metadata": {},
   "source": [
    "# ASE Database interface\n",
    "ASE database is a very useful format for small to medium size (up to around 100000) sets of atomic structures. Here we will create an ASE db file and redo the import from the db."
   ]
  },
  {
   "cell_type": "code",
   "execution_count": null,
   "metadata": {},
   "outputs": [],
   "source": [
    "import ase.db\n",
    "from catlearn.api.ase_atoms_api import database_to_list\n",
    "from catlearn.featurize.adsorbate_prep import autogen_info"
   ]
  },
  {
   "cell_type": "code",
   "execution_count": null,
   "metadata": {},
   "outputs": [],
   "source": [
    "# Create a new ASE db.\n",
    "fname = 'ads_example.db'\n",
    "os.remove(fname)\n",
    "c = ase.db.connect(fname)\n",
    "\n",
    "# Write our atoms objects to the ASE db.\n",
    "for atoms in images:\n",
    "    symbols=atoms.get_chemical_symbols()\n",
    "    species=symbols[atoms.subsets['ads_atoms'][0]]\n",
    "    name=symbols[atoms.subsets['slab_atoms'][0]]\n",
    "    c.write(atoms,\n",
    "            # Recommended keys for CatLearn.\n",
    "            species=species,\n",
    "            # Recommended keys for CatMAP compatibility.\n",
    "            name=name,\n",
    "            facet='(111)', n=1, crystal='fcc', supercell='2x2', layers=3, surf_lattice='hexagonal')"
   ]
  },
  {
   "cell_type": "code",
   "execution_count": null,
   "metadata": {},
   "outputs": [],
   "source": [
    "# Import data.\n",
    "images = database_to_list(fname)"
   ]
  },
  {
   "cell_type": "markdown",
   "metadata": {},
   "source": [
    "From here you can run `autogen_info` and the following workflow, as presented before."
   ]
  },
  {
   "cell_type": "markdown",
   "metadata": {},
   "source": [
    "# Analyse bond distances, check cutoffs\n",
    "\n",
    "This analysis must be done on optimized structures, but here we show a toy example using the dataset introduced previously in this tutorial.\n",
    "\n",
    "In the following, we will plot pair distribution functions (pdf) over our dataset or subset. This is necessary to convince ourselves that a we can rely on connectivities to fingerprint the atomic structures. "
   ]
  },
  {
   "cell_type": "code",
   "execution_count": null,
   "metadata": {},
   "outputs": [],
   "source": [
    "from ase.data import covalent_radii\n",
    "from catlearn.utilities.distribution import pair_distribution, pair_deviation"
   ]
  },
  {
   "cell_type": "markdown",
   "metadata": {},
   "source": [
    "### Pair distribution function\n",
    "The pair distribution function is a histrogram over distances between the atoms in our dataset. Our pdf utility in catlearn can optionally select a one or two elements to include in the analysis."
   ]
  },
  {
   "cell_type": "code",
   "execution_count": null,
   "metadata": {},
   "outputs": [],
   "source": [
    "# int for bonds between a single element and all other atoms. \n",
    "# tuple (A, B) for bonds between A and B only.\n",
    "element = 6\n",
    "\n",
    "images_subset = [a for a in images if element in a.numbers]\n",
    "\n",
    "# Generate pdf.\n",
    "pdf, x = pair_distribution(images_subset, bins=257, bounds=(0.3, 3.), element=element)"
   ]
  },
  {
   "cell_type": "code",
   "execution_count": null,
   "metadata": {},
   "outputs": [],
   "source": [
    "# Plot pdf.\n",
    "plt.plot(x, pdf)\n",
    "plt.xlabel('$r$ [$10^{-10}$ m]')"
   ]
  },
  {
   "cell_type": "markdown",
   "metadata": {},
   "source": [
    "The pdf does not directly show us the appropriate cutoff unless we select a specific pair of elements to count bonds between.\n",
    "\n",
    "### Set cutoffs\n",
    "\n",
    "Lets set some cutoffs manually and evaluate them."
   ]
  },
  {
   "cell_type": "code",
   "execution_count": null,
   "metadata": {},
   "outputs": [],
   "source": [
    "cutoff_dictionary = {}\n",
    "for z, s in enumerate(chemical_symbols[:104]):\n",
    "    if z == 0:\n",
    "        continue\n",
    "    elif s in adsorbates and z!=1:\n",
    "        radius = covalent_radii[z] * 1.1 + 0.1\n",
    "    else:\n",
    "        radius = get_radius(z) * 1.1 + 0.1\n",
    "    cutoff_dictionary[z] = radius"
   ]
  },
  {
   "cell_type": "code",
   "execution_count": null,
   "metadata": {},
   "outputs": [],
   "source": [
    "# int for bonds between a single element and all other atoms. \n",
    "# tuple (A, B) for bonds between A and B only.\n",
    "element = (78, 1)\n",
    "\n",
    "images_subset = [a for a in images if element[0] in a.numbers and element[1] in a.numbers]\n",
    "\n",
    "# Generate pdf.\n",
    "pdf, x = pair_distribution(images_subset, bins=257, bounds=(0.3, 3.), element=element)"
   ]
  },
  {
   "cell_type": "code",
   "execution_count": null,
   "metadata": {},
   "outputs": [],
   "source": [
    "# Plot pdf.\n",
    "plt.plot(x, pdf)\n",
    "\n",
    "# Print and plot bond lenght\n",
    "bond = 0.\n",
    "if isinstance(element, int):\n",
    "    print(chemical_symbols[element] + ' cutoff radius', cutoff_dictionary[element])\n",
    "elif isinstance(element, tuple):\n",
    "    for z in element:\n",
    "        print(chemical_symbols[z] + ' cutoff radius', cutoff_dictionary[z])\n",
    "        bond += cutoff_dictionary[z]\n",
    "    print('bond cutoff', bond)\n",
    "plt.axvline(bond, color='0.5')\n",
    "\n",
    "# Axis label.\n",
    "plt.xlabel('$r$ [$10^{-10}$ m]')"
   ]
  },
  {
   "cell_type": "markdown",
   "metadata": {},
   "source": [
    "If the line is after the first peak and clear of any other peaks, the cutoff will clearly distinguish first nearest neigbors.\n",
    "\n",
    "### Check cutoffs\n",
    "\n",
    "When our dataset has a larger number of elements, we don't really want to evaluate every pair of elements as shown above. We can instead plot a histogram of bond distances, where the element specific cutoff radii have been subtracted, $r - (r_a + r_b)$."
   ]
  },
  {
   "cell_type": "code",
   "execution_count": null,
   "metadata": {},
   "outputs": [],
   "source": [
    "deviation, xd = pair_deviation(images, bins=257, bounds=(-.75, 0.75), cutoffs=cutoff_dictionary)"
   ]
  },
  {
   "cell_type": "code",
   "execution_count": null,
   "metadata": {},
   "outputs": [],
   "source": [
    "plt.plot(xd, deviation)\n",
    "plt.xlabel('$r - (r_a + r_b)$ [$10^{-10}$ m]')"
   ]
  },
  {
   "cell_type": "markdown",
   "metadata": {},
   "source": [
    "If the distribution is 0 where $r = r_a + r_b$, we can unambigously represent structures by their connectivity. If the distribution is not 0 at $r = r_a + r_b$, we may be able to tune our cutoff radii to obtain more accurate connectivities, depending on the dataset."
   ]
  }
 ],
 "metadata": {
  "kernelspec": {
   "display_name": "Python 3",
   "language": "python",
   "name": "python3"
  },
  "language_info": {
   "codemirror_mode": {
    "name": "ipython",
    "version": 3
   },
   "file_extension": ".py",
   "mimetype": "text/x-python",
   "name": "python",
   "nbconvert_exporter": "python",
   "pygments_lexer": "ipython3",
   "version": "3.6.4"
  }
 },
 "nbformat": 4,
 "nbformat_minor": 2
}
