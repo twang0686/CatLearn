{
 "cells": [
  {
   "cell_type": "markdown",
   "metadata": {},
   "source": [
    "# Analyse bond distances, check cutoffs\n",
    "\n",
    "In this notebook we will plot pair distribution functions (pdf) over our dataset or subset. This is necessary to convince ourselves that a we can rely on connectivities to fingerprint the atomic structures. "
   ]
  },
  {
   "cell_type": "code",
   "execution_count": null,
   "metadata": {},
   "outputs": [],
   "source": [
    "# Import modules.\n",
    "import numpy as np\n",
    "\n",
    "from ase.visualize import view\n",
    "from ase.data import chemical_symbols, covalent_radii\n",
    "\n",
    "from catlearn.utilities.distribution import pair_distribution, pair_deviation\n",
    "from catlearn.api.ase_atoms_api import images_connectivity, database_to_list\n",
    "from catlearn.featurize.adsorbate_prep import autogen_info, auto_layers, layers_termination, check_reconstructions\n",
    "from catlearn.featurize.periodic_table_data import get_radius, default_catlearn_radius\n",
    "from catlearn import __path__\n",
    "from matplotlib import pyplot as plt"
   ]
  },
  {
   "cell_type": "markdown",
   "metadata": {},
   "source": [
    "### Import data\n",
    "Select a dataset and import it to a list of atoms objects."
   ]
  },
  {
   "cell_type": "code",
   "execution_count": null,
   "metadata": {},
   "outputs": [],
   "source": [
    "selection = []\n",
    "work_path = __path__[0]\n",
    "fname = work_path + '/../data/ads_example.db'\n",
    "print('Importing from database.')\n",
    "images = database_to_list(fname, selection=selection)\n",
    "print(len(images), 'structures imported.')"
   ]
  },
  {
   "cell_type": "markdown",
   "metadata": {},
   "source": [
    "### Pair distribution function\n",
    "The pair distribution function is a histrogram over distances between the atoms in our dataset. Our pdf utility in catlearn can optionally select a one or two elements to include in the analysis."
   ]
  },
  {
   "cell_type": "code",
   "execution_count": null,
   "metadata": {},
   "outputs": [],
   "source": [
    "# int for bonds between a single element and all other atoms. \n",
    "# tuple (A, B) for bonds between A and B only.\n",
    "element = 6\n",
    "\n",
    "# Generate pdf.\n",
    "pdf, x = pair_distribution(images, bins=257, bounds=(0.3, 3.), element=element)"
   ]
  },
  {
   "cell_type": "code",
   "execution_count": null,
   "metadata": {},
   "outputs": [],
   "source": [
    "# Plot pdf.\n",
    "plt.plot(x, pdf)\n",
    "plt.xlabel('$r$ [$10^{-10}$ m]')"
   ]
  },
  {
   "cell_type": "markdown",
   "metadata": {},
   "source": [
    "We can see on this plot that carbon\n",
    "\n",
    "The pdf does not directly show us the appropriate cutoff unless we select a specific pair of elements to count bonds between.\n",
    "\n",
    "### Set cutoffs\n",
    "\n",
    "Lets set some cutoff in order to evaluate them."
   ]
  },
  {
   "cell_type": "code",
   "execution_count": null,
   "metadata": {},
   "outputs": [],
   "source": [
    "cutoff_dictionary = {}\n",
    "for z, s in enumerate(chemical_symbols[:104]):\n",
    "    if z == 0:\n",
    "        continue\n",
    "    elif z == 6:\n",
    "        radius = covalent_radii[z] * 1.1 + 0.1\n",
    "    else:\n",
    "        radius = get_radius(z) * 1.1 + 0.1\n",
    "    cutoff_dictionary[z] = radius"
   ]
  },
  {
   "cell_type": "code",
   "execution_count": null,
   "metadata": {},
   "outputs": [],
   "source": [
    "# int for bonds between a single element and all other atoms. \n",
    "# tuple (A, B) for bonds between A and B only.\n",
    "element = 78\n",
    "\n",
    "# Generate pdf.\n",
    "pdf, x = pair_distribution(images, bins=257, bounds=(0.3, 3.), element=element)"
   ]
  },
  {
   "cell_type": "code",
   "execution_count": null,
   "metadata": {},
   "outputs": [],
   "source": [
    "# Plot pdf.\n",
    "plt.plot(x, pdf)\n",
    "\n",
    "# Print and plot bond lenght\n",
    "bond = 0.\n",
    "if isinstance(element, int):\n",
    "    print('radius', cutoff_dictionary[element])\n",
    "elif isinstance(element, tuple):\n",
    "    for z in element:\n",
    "        print('radius', cutoff_dictionary[z])\n",
    "        bond += cutoff_dictionary[z]\n",
    "    print('bond', bond)\n",
    "plt.axvline(bond, color='0.5')\n",
    "\n",
    "# Axis label.\n",
    "plt.xlabel('$r$ [$10^{-10}$ m]')"
   ]
  },
  {
   "cell_type": "markdown",
   "metadata": {},
   "source": [
    "If the line is after the first peak and clear of any other peaks, the cutoff will clearly distinguish first nearest neigbors.\n",
    "\n",
    "### Check cutoffs\n",
    "\n",
    "When our dataset has a larger number of elements, we don't really want to evaluate every pair of elements as shown above. We can instead plot a histogram of bond distances, where the element specific cutoff radii have been subtracted, $r - (r_a + r_b)$."
   ]
  },
  {
   "cell_type": "code",
   "execution_count": null,
   "metadata": {},
   "outputs": [],
   "source": [
    "deviation, xd = pair_deviation(images, bins=257, bounds=(-.5, 0.5), cutoffs=cutoff_dictionary)"
   ]
  },
  {
   "cell_type": "code",
   "execution_count": null,
   "metadata": {},
   "outputs": [],
   "source": [
    "plt.plot(xd, deviation)\n",
    "plt.xlabel('$r - (r_a + r_b)$ [$10^{-10}$ m]')"
   ]
  },
  {
   "cell_type": "markdown",
   "metadata": {},
   "source": [
    "If the distribution is 0 where $r = r_a + r_b$, we can unambigously represent structures by their connectivity. If the distribution is not 0 at $r = r_a + r_b$, we may be able to tune our cutoff radii to obtain more accurate connectivities, depending on the dataset."
   ]
  }
 ],
 "metadata": {
  "kernelspec": {
   "display_name": "Python 3",
   "language": "python",
   "name": "python3"
  },
  "language_info": {
   "codemirror_mode": {
    "name": "ipython",
    "version": 3
   },
   "file_extension": ".py",
   "mimetype": "text/x-python",
   "name": "python",
   "nbconvert_exporter": "python",
   "pygments_lexer": "ipython3",
   "version": "3.6.4"
  }
 },
 "nbformat": 4,
 "nbformat_minor": 2
}
